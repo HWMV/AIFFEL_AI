{
 "cells": [
  {
   "cell_type": "code",
   "execution_count": 1,
   "id": "7ba38fa5",
   "metadata": {},
   "outputs": [],
   "source": [
    "!pip install --upgrade -qq git+https://github.com/huggingface/diffusers.git transformers accelerate"
   ]
  },
  {
   "cell_type": "code",
   "execution_count": 2,
   "id": "eec3aad2",
   "metadata": {},
   "outputs": [],
   "source": [
    "# Text2Img Generation\n",
    "\n",
    "import torch \n",
    "from diffusers import DiffusionPipeline, DPMSolverMultistepScheduler\n",
    "\n",
    "device = \"cuda\"\n",
    "\n",
    "# 파이프라인 불러오기\n",
    "repo_id = \"stabilityai/stable-diffusion-2-base\"\n",
    "pipe = DiffusionPipeline.from_pretrained(repo_id, torch_dtype=torch.float16, revision=\"fp16\")\n",
    "\n",
    "pipe.scheduler = DPMSolverMultistepScheduler.from_config(pipe.scheduler.config)\n",
    "pipe = pipe.to(device)"
   ]
  },
  {
   "cell_type": "code",
   "execution_count": 3,
   "id": "6566a82e",
   "metadata": {},
   "outputs": [],
   "source": [
    "prompt = str(input('prompt: '))  # 프롬프트를 영어로 입력해보세요"
   ]
  },
  {
   "cell_type": "code",
   "execution_count": 4,
   "id": "2b5d7a3a",
   "metadata": {},
   "outputs": [],
   "source": [
    "# 이미지 저장 폴더 만들기   \n",
    "import os\n",
    "# os.mkdir(\"/aiffel/aiffel/diffusers\")    # diffusers 폴더를 이미 만들었다면 주석 처리해 주세요.\n",
    "\n",
    "# 입력한 프롬프트를 사용하여 이미지 생성 \n",
    "image = pipe(prompt, num_inference_steps=20, guidance_scale=7).images[0]\n",
    "\n",
    "# 이미지 저장\n",
    "image.save(\"/aiffel/aiffel/diffusers/image9.png\")  \n",
    "\n",
    "# 이미지 출력 \n",
    "image"
   ]
  },
  {
   "cell_type": "code",
   "execution_count": 5,
   "id": "a3d98c8b",
   "metadata": {},
   "outputs": [],
   "source": [
    "# GPU 메모리를 지우는 코드입니다.\n",
    "import torch\n",
    "torch.cuda.empty_cache()"
   ]
  },
  {
   "cell_type": "markdown",
   "id": "ec65e18c",
   "metadata": {},
   "source": [
    "# 인체 자세 감지"
   ]
  },
  {
   "cell_type": "code",
   "execution_count": 8,
   "id": "bb697b19",
   "metadata": {},
   "outputs": [
    {
     "name": "stdout",
     "output_type": "stream",
     "text": [
      "Collecting controlnet-aux==0.0.1\n",
      "  Downloading controlnet_aux-0.0.1-py3-none-any.whl (26 kB)\n",
      "Collecting einops\n",
      "  Downloading einops-0.7.0-py3-none-any.whl (44 kB)\n",
      "     |████████████████████████████████| 44 kB 2.9 MB/s             \n",
      "\u001b[?25hRequirement already satisfied: filelock in /opt/conda/lib/python3.9/site-packages (from controlnet-aux==0.0.1) (3.12.2)\n",
      "Requirement already satisfied: Pillow in /opt/conda/lib/python3.9/site-packages (from controlnet-aux==0.0.1) (8.3.2)\n",
      "Requirement already satisfied: huggingface-hub in /opt/conda/lib/python3.9/site-packages (from controlnet-aux==0.0.1) (0.19.4)\n",
      "Requirement already satisfied: scipy in /opt/conda/lib/python3.9/site-packages (from controlnet-aux==0.0.1) (1.7.1)\n",
      "Requirement already satisfied: torch in /opt/conda/lib/python3.9/site-packages (from controlnet-aux==0.0.1) (1.12.1)\n",
      "Requirement already satisfied: opencv-python in /opt/conda/lib/python3.9/site-packages (from controlnet-aux==0.0.1) (4.5.3.56)\n",
      "Requirement already satisfied: importlib-metadata in /opt/conda/lib/python3.9/site-packages (from controlnet-aux==0.0.1) (4.8.2)\n",
      "Requirement already satisfied: numpy in /opt/conda/lib/python3.9/site-packages (from controlnet-aux==0.0.1) (1.21.4)\n",
      "Requirement already satisfied: pyyaml>=5.1 in /opt/conda/lib/python3.9/site-packages (from huggingface-hub->controlnet-aux==0.0.1) (6.0)\n",
      "Requirement already satisfied: typing-extensions>=3.7.4.3 in /opt/conda/lib/python3.9/site-packages (from huggingface-hub->controlnet-aux==0.0.1) (4.7.0)\n",
      "Requirement already satisfied: packaging>=20.9 in /opt/conda/lib/python3.9/site-packages (from huggingface-hub->controlnet-aux==0.0.1) (21.3)\n",
      "Requirement already satisfied: tqdm>=4.42.1 in /opt/conda/lib/python3.9/site-packages (from huggingface-hub->controlnet-aux==0.0.1) (4.62.3)\n",
      "Requirement already satisfied: fsspec>=2023.5.0 in /opt/conda/lib/python3.9/site-packages (from huggingface-hub->controlnet-aux==0.0.1) (2023.12.1)\n",
      "Requirement already satisfied: requests in /opt/conda/lib/python3.9/site-packages (from huggingface-hub->controlnet-aux==0.0.1) (2.26.0)\n",
      "Requirement already satisfied: zipp>=0.5 in /opt/conda/lib/python3.9/site-packages (from importlib-metadata->controlnet-aux==0.0.1) (3.6.0)\n",
      "Requirement already satisfied: pyparsing!=3.0.5,>=2.0.2 in /opt/conda/lib/python3.9/site-packages (from packaging>=20.9->huggingface-hub->controlnet-aux==0.0.1) (3.0.6)\n",
      "Requirement already satisfied: urllib3<1.27,>=1.21.1 in /opt/conda/lib/python3.9/site-packages (from requests->huggingface-hub->controlnet-aux==0.0.1) (1.26.7)\n",
      "Requirement already satisfied: certifi>=2017.4.17 in /opt/conda/lib/python3.9/site-packages (from requests->huggingface-hub->controlnet-aux==0.0.1) (2023.5.7)\n",
      "Requirement already satisfied: charset-normalizer~=2.0.0 in /opt/conda/lib/python3.9/site-packages (from requests->huggingface-hub->controlnet-aux==0.0.1) (2.0.8)\n",
      "Requirement already satisfied: idna<4,>=2.5 in /opt/conda/lib/python3.9/site-packages (from requests->huggingface-hub->controlnet-aux==0.0.1) (2.10)\n",
      "Installing collected packages: einops, controlnet-aux\n",
      "Successfully installed controlnet-aux-0.0.1 einops-0.7.0\n",
      "\u001b[33mWARNING: Running pip as the 'root' user can result in broken permissions and conflicting behaviour with the system package manager. It is recommended to use a virtual environment instead: https://pip.pypa.io/warnings/venv\u001b[0m\n"
     ]
    }
   ],
   "source": [
    "# controlnet-aux를 설치합니다. Human pose를 검출해주는 controlnet의 보조용 모델입니다.\n",
    "!pip install controlnet-aux==0.0.1"
   ]
  },
  {
   "cell_type": "code",
   "execution_count": 9,
   "id": "aae57759",
   "metadata": {},
   "outputs": [],
   "source": [
    "from diffusers.utils import load_image\n",
    "\n",
    "openpose_image = load_image(\n",
    "    \"https://huggingface.co/datasets/huggingface/documentation-images/resolve/main/diffusers/person.png\"\n",
    ")\n",
    "openpose_image"
   ]
  },
  {
   "cell_type": "code",
   "execution_count": 10,
   "id": "b0b9837e",
   "metadata": {},
   "outputs": [],
   "source": [
    "# Openpose 검출기를 사용하여 자세만 추출\n",
    "\n",
    "from controlnet_aux import OpenposeDetector\n",
    "\n",
    "# 인체의 자세를 검출하는 사전 학습된 ControlNet 불러오기\n",
    "openpose = OpenposeDetector.from_pretrained(\"lllyasviel/ControlNet\")\n",
    "\n",
    "# 이미지에서 자세 검출\n",
    "openpose_image = openpose(openpose_image)\n",
    "openpose_image\n"
   ]
  },
  {
   "cell_type": "code",
   "execution_count": 11,
   "id": "dd6be06d",
   "metadata": {},
   "outputs": [],
   "source": [
    "# 생성된 포즈 이미지를 저장\n",
    "openpose_image.save('/aiffel/aiffel/diffusers/human_pose.png')\n"
   ]
  }
 ],
 "metadata": {
  "kernelspec": {
   "display_name": "Python 3 (ipykernel)",
   "language": "python",
   "name": "python3"
  },
  "language_info": {
   "codemirror_mode": {
    "name": "ipython",
    "version": 3
   },
   "file_extension": ".py",
   "mimetype": "text/x-python",
   "name": "python",
   "nbconvert_exporter": "python",
   "pygments_lexer": "ipython3",
   "version": "3.9.7"
  }
 },
 "nbformat": 4,
 "nbformat_minor": 5
}
