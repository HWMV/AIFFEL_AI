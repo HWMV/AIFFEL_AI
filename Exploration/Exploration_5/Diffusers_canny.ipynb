{
 "cells": [
  {
   "cell_type": "code",
   "execution_count": 1,
   "id": "44f6c597",
   "metadata": {},
   "outputs": [],
   "source": [
    "!pip install --upgrade -qq git+https://github.com/huggingface/diffusers.git transformers accelerate"
   ]
  },
  {
   "cell_type": "code",
   "execution_count": 2,
   "id": "4bd2c252",
   "metadata": {},
   "outputs": [],
   "source": [
    "# Text2Img Generation\n",
    "\n",
    "import torch \n",
    "from diffusers import DiffusionPipeline, DPMSolverMultistepScheduler\n",
    "\n",
    "device = \"cuda\"\n",
    "\n",
    "# 파이프라인 불러오기\n",
    "repo_id = \"stabilityai/stable-diffusion-2-base\"\n",
    "pipe = DiffusionPipeline.from_pretrained(repo_id, torch_dtype=torch.float16, revision=\"fp16\")\n",
    "\n",
    "pipe.scheduler = DPMSolverMultistepScheduler.from_config(pipe.scheduler.config)\n",
    "pipe = pipe.to(device)"
   ]
  },
  {
   "cell_type": "code",
   "execution_count": 3,
   "id": "c100b3a5",
   "metadata": {},
   "outputs": [],
   "source": [
    "prompt = str(input('prompt: '))  # 프롬프트를 영어로 입력해보세요"
   ]
  },
  {
   "cell_type": "code",
   "execution_count": 4,
   "id": "70d841c7",
   "metadata": {},
   "outputs": [],
   "source": [
    "# 이미지 저장 폴더 만들기   \n",
    "import os\n",
    "# os.mkdir(\"/aiffel/aiffel/diffusers\")    # diffusers 폴더를 이미 만들었다면 주석 처리해 주세요.\n",
    "\n",
    "# 입력한 프롬프트를 사용하여 이미지 생성 \n",
    "image = pipe(prompt, num_inference_steps=20, guidance_scale=7).images[0]\n",
    "\n",
    "# 이미지 저장\n",
    "image.save(\"/aiffel/aiffel/diffusers/image9.png\")  \n",
    "\n",
    "# 이미지 출력 \n",
    "image"
   ]
  },
  {
   "cell_type": "code",
   "execution_count": 5,
   "id": "0f2d8f22",
   "metadata": {},
   "outputs": [],
   "source": [
    "# GPU 메모리를 지우는 코드입니다.\n",
    "import torch\n",
    "torch.cuda.empty_cache()"
   ]
  },
  {
   "cell_type": "markdown",
   "id": "da6f71d9",
   "metadata": {},
   "source": [
    "# grid.img 배경 윤곽선 검출"
   ]
  },
  {
   "cell_type": "code",
   "execution_count": 6,
   "id": "433f8e57",
   "metadata": {},
   "outputs": [],
   "source": [
    "# 윤곽선 이미지 생성 완료, 커널 죽으니깐 주석 처리\n",
    "\n",
    "import cv2\n",
    "import numpy as np\n",
    "\n",
    "# 이미지 파일을 읽어옵니다. 저장한 이미지 파일 경로로 변경해주세요.\n",
    "image = cv2.imread('/aiffel/aiffel/diffusers/image9.png', cv2.IMREAD_GRAYSCALE)\n",
    "\n",
    "# Canny edge detection 적용\n",
    "edges = cv2.Canny(image, threshold1=100, threshold2=200)\n",
    "\n",
    "# 윤곽선 검출된 이미지를 저장\n",
    "cv2.imwrite('/aiffel/aiffel/diffusers/back_canny_edges1.png', edges)\n",
    "\n",
    "# 윤곽선 검출된 이미지를 표시 (선택적)\n",
    "cv2.imshow('Canny Edges', edges)\n",
    "cv2.waitKey(0)\n",
    "cv2.destroyAllWindows()"
   ]
  },
  {
   "cell_type": "code",
   "execution_count": 7,
   "id": "dfc311a4",
   "metadata": {},
   "outputs": [],
   "source": [
    "# 무대 윤곽선 이미지 출력\n",
    "import matplotlib.pyplot as plt\n",
    "import cv2\n",
    "\n",
    "# 저장된 윤곽선 이미지를 읽어옵니다.\n",
    "image_path = '/aiffel/aiffel/diffusers/back_canny_edges1.png'\n",
    "edges = cv2.imread(image_path, cv2.IMREAD_GRAYSCALE)\n",
    "\n",
    "# 이미지를 출력합니다.\n",
    "plt.imshow(edges, cmap='gray')\n",
    "plt.title('Canny Edges')\n",
    "plt.show()"
   ]
  },
  {
   "cell_type": "code",
   "execution_count": null,
   "id": "ac321174",
   "metadata": {},
   "outputs": [],
   "source": []
  }
 ],
 "metadata": {
  "kernelspec": {
   "display_name": "Python 3 (ipykernel)",
   "language": "python",
   "name": "python3"
  },
  "language_info": {
   "codemirror_mode": {
    "name": "ipython",
    "version": 3
   },
   "file_extension": ".py",
   "mimetype": "text/x-python",
   "name": "python",
   "nbconvert_exporter": "python",
   "pygments_lexer": "ipython3",
   "version": "3.9.7"
  }
 },
 "nbformat": 4,
 "nbformat_minor": 5
}
